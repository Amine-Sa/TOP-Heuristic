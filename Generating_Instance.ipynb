{
 "cells": [
  {
   "cell_type": "markdown",
   "metadata": {},
   "source": [
    "# Creating a Grid"
   ]
  },
  {
   "cell_type": "code",
   "execution_count": 1,
   "metadata": {},
   "outputs": [],
   "source": [
    "from top_heuristic.data_generator import *"
   ]
  },
  {
   "cell_type": "code",
   "execution_count": 6,
   "metadata": {},
   "outputs": [
    {
     "data": {
      "image/png": "[encoded data removed]",
      "text/plain": [
       "<Figure size 432x288 with 1 Axes>"
      ]
     },
     "metadata": {
      "needs_background": "light"
     },
     "output_type": "display_data"
    }
   ],
   "source": [
    "My_grid = Grid(15, 10)\n",
    "My_grid.plot()"
   ]
  },
  {
   "cell_type": "code",
   "execution_count": 3,
   "metadata": {},
   "outputs": [
    {
     "data": {
      "text/plain": [
       "{Point(x=-4, y=4, poid=9): 1.590990257669732,\n",
       " Point(x=4, y=0, poid=9): 2.25,\n",
       " Point(x=4, y=4, poid=3): 0.5303300858899106,\n",
       " Point(x=-5, y=-2, poid=7): 1.299867367239363,\n",
       " Point(x=-3, y=-5, poid=7): 1.2004900959975617,\n",
       " Point(x=-5, y=4, poid=9): 1.4055638569974547,\n",
       " Point(x=-1, y=4, poid=5): 1.212678125181665,\n",
       " Point(x=1, y=4, poid=6): 1.4552137502179978,\n",
       " Point(x=4, y=2, poid=3): 0.6708203932499369,\n",
       " Point(x=-2, y=2, poid=3): 1.0606601717798212,\n",
       " Point(x=1, y=-3, poid=6): 1.8973665961010275,\n",
       " Point(x=4, y=-2, poid=3): 0.6708203932499369,\n",
       " Point(x=2, y=3, poid=6): 1.6641005886756874,\n",
       " Point(x=-3, y=-3, poid=5): 1.1785113019775793,\n",
       " Point(x=0, y=-4, poid=4): 1.0}"
      ]
     },
     "execution_count": 3,
     "metadata": {},
     "output_type": "execute_result"
    }
   ],
   "source": [
    "My_grid.evaluate()"
   ]
  }
 ],
 "metadata": {
  "interpreter": {
   "hash": "be9f63e87361f135a18a2edf52f0939eb18ead172c0381bb57a9fece0d28f28f"
  },
  "kernelspec": {
   "display_name": "Python 3.10.0 64-bit ('env': venv)",
   "language": "python",
   "name": "python3"
  },
  "language_info": {
   "codemirror_mode": {
    "name": "ipython",
    "version": 3
   },
   "file_extension": ".py",
   "mimetype": "text/x-python",
   "name": "python",
   "nbconvert_exporter": "python",
   "pygments_lexer": "ipython3",
   "version": "3.10.0"
  },
  "orig_nbformat": 4
 },
 "nbformat": 4,
 "nbformat_minor": 2
}
